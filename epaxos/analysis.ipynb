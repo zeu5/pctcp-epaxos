{
 "cells": [
  {
   "cell_type": "code",
   "execution_count": 2,
   "metadata": {},
   "outputs": [],
   "source": [
    "import sys\n",
    "import os\n",
    "import re"
   ]
  },
  {
   "cell_type": "code",
   "execution_count": 3,
   "metadata": {},
   "outputs": [],
   "source": [
    "DEBUG_FILE = \"debug.log\"\n",
    "PATH_FILE = \"path\"\n",
    "PERFORMANCE_FILE = \"performance.log\""
   ]
  },
  {
   "cell_type": "code",
   "execution_count": 4,
   "metadata": {},
   "outputs": [],
   "source": [
    "state_path = \"/Users/srinidhi/Local/dmckruns/run3/epaxos/state\""
   ]
  },
  {
   "cell_type": "code",
   "execution_count": 30,
   "metadata": {},
   "outputs": [],
   "source": [
    "class Run:\n",
    "    def __init__(self):\n",
    "        self.id = None\n",
    "        self.states = []\n",
    "        self.path = []\n",
    "        self.execution_time = 0\n",
    "        self.duplicated = False\n",
    "\n",
    "class State:\n",
    "    def __init__(self):\n",
    "        self.events = []\n",
    "        self.next_event = None\n",
    "    \n",
    "    def empty(self):\n",
    "        return len(self.events) == 0 and self.next_event is None\n",
    "\n",
    "class Event:\n",
    "    def __init__(self):\n",
    "        self.id = \"\"\n",
    "        self.msg = \"\"\n",
    "        self.msgType = \"\"\n",
    "        self.sender = \"\"\n",
    "        self.recv = \"\"\n",
    "\n",
    "class CommitMsg:\n",
    "    def __init__(self):\n",
    "        self.leader = \"\"\n",
    "        self.replica = \"\"\n",
    "        self.instance = \"\"\n",
    "        self.deps = []"
   ]
  },
  {
   "cell_type": "code",
   "execution_count": 31,
   "metadata": {},
   "outputs": [],
   "source": [
    "def remove_prefix(string, prefix):\n",
    "    if string.startswith(prefix):\n",
    "        return string[len(prefix):]\n",
    "    return string"
   ]
  },
  {
   "cell_type": "code",
   "execution_count": 32,
   "metadata": {},
   "outputs": [],
   "source": [
    "def parse_debug(file):\n",
    "    states = []\n",
    "    state_lines = []\n",
    "    for line in file.readlines():\n",
    "        line = line.strip()\n",
    "        if line == \"Update from Target System:\":\n",
    "            if len(state_lines) != 0:\n",
    "                state = parse_state(state_lines)\n",
    "                if not state.empty():\n",
    "                    states.append(state)\n",
    "            state_lines = []\n",
    "        state_lines.append(line)\n",
    "    return states"
   ]
  },
  {
   "cell_type": "code",
   "execution_count": 33,
   "metadata": {},
   "outputs": [],
   "source": [
    "def parse_state(lines):\n",
    "    new_state = State()\n",
    "    for line in lines:\n",
    "        if line.startswith(\"Next Event:\"):\n",
    "            start = line.find(\"packetsend\")\n",
    "            new_state.next_event = parse_event(line[start:])\n",
    "        elif line.find(\"packetsend\") != -1:\n",
    "            start = line.find(\"packetsend\")\n",
    "            new_state.events.append(parse_event(line[start:]))\n",
    "    return new_state"
   ]
  },
  {
   "cell_type": "code",
   "execution_count": 34,
   "metadata": {},
   "outputs": [],
   "source": [
    "def parse_event(line):\n",
    "    event = Event()\n",
    "    p = re.match(r'(?P<header>packetsend)\\s(?P<tid>tid=-?[0-9]+)\\s(?P<event>Event=\\{.*\\})\\s.*', line)\n",
    "    e = None\n",
    "    msg = None\n",
    "    if p is not None:\n",
    "        e = re.match(r'\\{(?P<msg>msg=&.*\\{.*\\},)\\s(?P<others>.*)\\}', remove_prefix(p.group('event'), \"Event=\"))\n",
    "    if e is not None:\n",
    "        for props in e.group('others').split(','):\n",
    "            props = props.strip()\n",
    "            [key, value] = props.split('=')\n",
    "            if key == \"verb\":\n",
    "                event.msgType = value\n",
    "            if key == \"sendNode\":\n",
    "                event.sender = value\n",
    "            if key == \"recvNode\":\n",
    "                event.recv = value\n",
    "            if key == \"eventId\":\n",
    "                event.id = value\n",
    "        if (event.msgType == \"Commit\" or event.msgType == \"CommitShort\"):\n",
    "            event.msg = parse_commitmsg(remove_prefix(e.group('msg'),'msg=&'))\n",
    "        else:\n",
    "            event.msg = remove_prefix(e.group('msg'),'msg=&')\n",
    "    return event"
   ]
  },
  {
   "cell_type": "code",
   "execution_count": 35,
   "metadata": {},
   "outputs": [],
   "source": [
    "def parse_commitmsg(msg):\n",
    "    r = re.match(r'(?P<name>\\w+\\.\\w+)\\{(?P<fields>.*)\\}', msg)\n",
    "    if r is not None:\n",
    "        fields = r.group('fields')\n",
    "        c = CommitMsg()\n",
    "        l_re = re.search(r'LeaderId:(?P<leader>\\d+)', fields)\n",
    "        if l_re is not None:\n",
    "            c.leader = l_re.group('leader')\n",
    "        r_re = re.search(r'Replica:(?P<replica>\\d+)', fields)\n",
    "        if r_re is not None:\n",
    "            c.replica = r_re.group('replica')\n",
    "        i_re = re.search(r'Instance:(?P<instance>\\d+)', fields)\n",
    "        if i_re is not None:\n",
    "            c.instance = i_re.group('instance')\n",
    "        d_re = re.search(r'Deps:\\[5\\]int32\\{(?P<deps>.*)\\}', fields)\n",
    "        if d_re is not None:\n",
    "            for d in d_re.group('deps').split(','):\n",
    "                c.deps.append(int(d.strip()))\n",
    "        return c\n",
    "    return None"
   ]
  },
  {
   "cell_type": "code",
   "execution_count": 36,
   "metadata": {},
   "outputs": [],
   "source": [
    "def conflict(states):\n",
    "    commits = []\n",
    "    for state in states:\n",
    "        for event in state.events:\n",
    "            if event.msgType == \"Commit\" or event.msgType == \"CommitShort\":\n",
    "                commits.append(event.msg)\n",
    "\n",
    "    instances = {}\n",
    "    for c in commits:\n",
    "        if c.replica not in instances:\n",
    "            instances[c.replica] = {}\n",
    "        if c.instance not in instances[c.replica]:\n",
    "            instances[c.replica][c.instance] = c.deps\n",
    "        if c.deps != instances[c.replica][c.instance]:\n",
    "            return True\n",
    "    return False"
   ]
  },
  {
   "cell_type": "code",
   "execution_count": 37,
   "metadata": {},
   "outputs": [],
   "source": [
    "e = parse_event(\"packetsend tid=-1743781515 Event={msg=&epaxosproto.CommitShort{LeaderId:0, Replica:0, Instance:0, Count:1, Seq:1, Deps:[5]int32{-1, 0, -1, 0, 0}}, eventId=12, recvNode=1, verb=CommitShort, hashId=373, sendNode=0} [[0, 4, 0, 0], [4, 0, 0, 0], [0, 0, 0, 0]]\")"
   ]
  },
  {
   "cell_type": "code",
   "execution_count": 38,
   "metadata": {},
   "outputs": [
    {
     "data": {
      "text/plain": [
       "'CommitShort'"
      ]
     },
     "execution_count": 38,
     "metadata": {},
     "output_type": "execute_result"
    }
   ],
   "source": [
    "e.msgType"
   ]
  },
  {
   "cell_type": "code",
   "execution_count": 39,
   "metadata": {},
   "outputs": [],
   "source": [
    "def parse_path(file):\n",
    "    events = []\n",
    "    duplicated = False\n",
    "    for line in file.readlines():\n",
    "        if line.startswith(\"packetsend\"):\n",
    "            events.append(parse_event(line.strip()))\n",
    "        elif line.strip() == \"Duplicated path.\":\n",
    "            duplicated = True\n",
    "    return events, duplicated"
   ]
  },
  {
   "cell_type": "code",
   "execution_count": 43,
   "metadata": {},
   "outputs": [],
   "source": [
    "def parse_performance(file):\n",
    "    text = file.read()\n",
    "    m = re.search(r'total-execution-path-time=(?P<time>\\d+)ms', text)\n",
    "    if m is not None:\n",
    "        return int(m.group('time'))\n",
    "    return 0"
   ]
  },
  {
   "cell_type": "code",
   "execution_count": 69,
   "metadata": {},
   "outputs": [],
   "source": [
    "def parse_run(d):\n",
    "    if os.path.isdir(d):\n",
    "        run = Run()\n",
    "        with open(os.path.join(d,DEBUG_FILE)) as f:\n",
    "            states = parse_debug(f)\n",
    "            run.states = states\n",
    "        with open(os.path.join(d,PATH_FILE)) as f:\n",
    "            path, duplicated = parse_path(f)\n",
    "            run.path = path\n",
    "            run.duplicated = duplicated\n",
    "        with open(os.path.join(d,PERFORMANCE_FILE)) as f:\n",
    "            execution_time = parse_performance(f)\n",
    "            run.execution_time = execution_time\n",
    "        return run"
   ]
  },
  {
   "cell_type": "code",
   "execution_count": 94,
   "metadata": {},
   "outputs": [],
   "source": [
    "def collect_runs(path):\n",
    "    runs = []\n",
    "    if os.path.isdir(path):\n",
    "        for d in os.listdir(path):\n",
    "            run = parse_run(os.path.join(path, d))\n",
    "            run.id = int(d)\n",
    "            runs.append(run)\n",
    "    return runs"
   ]
  },
  {
   "cell_type": "code",
   "execution_count": 95,
   "metadata": {},
   "outputs": [],
   "source": [
    "runs = collect_runs(state_path)"
   ]
  },
  {
   "cell_type": "code",
   "execution_count": 96,
   "metadata": {},
   "outputs": [
    {
     "name": "stdout",
     "output_type": "stream",
     "text": [
      "Empty runs: 1665\n",
      "Duplicated runs: 290\n"
     ]
    }
   ],
   "source": [
    "nonempty_runs = list(filter(lambda r: len(r.states) != 0, runs))\n",
    "print(\"Empty runs:\", len(runs) - len(nonempty_runs))\n",
    "\n",
    "duplicated = 0\n",
    "for r in nonempty_runs:\n",
    "    if r.duplicated:\n",
    "        duplicated += 1\n",
    "print(\"Duplicated runs:\", duplicated)"
   ]
  },
  {
   "cell_type": "code",
   "execution_count": 97,
   "metadata": {},
   "outputs": [
    {
     "name": "stdout",
     "output_type": "stream",
     "text": [
      "Runs with the bug: []\n"
     ]
    }
   ],
   "source": [
    "conflict_runs = []\n",
    "for r in nonempty_runs:\n",
    "    if conflict(r.states):\n",
    "        conflict_runs.append(r.id)\n",
    "print(\"Runs with the bug:\",conflict_runs)"
   ]
  },
  {
   "cell_type": "code",
   "execution_count": 98,
   "metadata": {},
   "outputs": [],
   "source": [
    "import numpy"
   ]
  },
  {
   "cell_type": "code",
   "execution_count": 119,
   "metadata": {},
   "outputs": [],
   "source": [
    "stats = []\n",
    "for r in nonempty_runs:\n",
    "    stats.append([r.id, len(r.path), r.execution_time])\n",
    "stats = numpy.array(stats)"
   ]
  },
  {
   "cell_type": "code",
   "execution_count": 120,
   "metadata": {},
   "outputs": [
    {
     "name": "stdout",
     "output_type": "stream",
     "text": [
      "Longest path length: 20\n"
     ]
    }
   ],
   "source": [
    "print(\"Longest path length:\", stats[:,1].max())"
   ]
  },
  {
   "cell_type": "code",
   "execution_count": 121,
   "metadata": {},
   "outputs": [],
   "source": [
    "import matplotlib.pyplot as plt"
   ]
  },
  {
   "cell_type": "code",
   "execution_count": 122,
   "metadata": {},
   "outputs": [
    {
     "data": {
      "text/plain": [
       "<matplotlib.collections.PathCollection at 0x11b792fd0>"
      ]
     },
     "execution_count": 122,
     "metadata": {},
     "output_type": "execute_result"
    },
    {
     "data": {
      "image/png": "[encoded data removed]",
      "text/plain": [
       "<Figure size 432x288 with 1 Axes>"
      ]
     },
     "metadata": {
      "needs_background": "light"
     },
     "output_type": "display_data"
    }
   ],
   "source": [
    "plt.scatter(stats[:,0],stats[:,1])"
   ]
  },
  {
   "cell_type": "code",
   "execution_count": 123,
   "metadata": {},
   "outputs": [
    {
     "data": {
      "text/plain": [
       "<matplotlib.collections.PathCollection at 0x11bfe3d50>"
      ]
     },
     "execution_count": 123,
     "metadata": {},
     "output_type": "execute_result"
    },
    {
     "data": {
      "image/png": "[encoded data removed]",
      "text/plain": [
       "<Figure size 432x288 with 1 Axes>"
      ]
     },
     "metadata": {
      "needs_background": "light"
     },
     "output_type": "display_data"
    }
   ],
   "source": [
    "plt.scatter(stats[:,0], stats[:,2])"
   ]
  },
  {
   "cell_type": "code",
   "execution_count": null,
   "metadata": {},
   "outputs": [],
   "source": []
  }
 ],
 "metadata": {
  "kernelspec": {
   "display_name": "Python 3",
   "language": "python",
   "name": "python3"
  },
  "language_info": {
   "codemirror_mode": {
    "name": "ipython",
    "version": 3
   },
   "file_extension": ".py",
   "mimetype": "text/x-python",
   "name": "python",
   "nbconvert_exporter": "python",
   "pygments_lexer": "ipython3",
   "version": "3.7.6"
  }
 },
 "nbformat": 4,
 "nbformat_minor": 2
}
